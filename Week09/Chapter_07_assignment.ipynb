{
  "nbformat": 4,
  "nbformat_minor": 0,
  "metadata": {
    "colab": {
      "name": "Chapter_07_assignment.ipynb",
      "provenance": [],
      "authorship_tag": "ABX9TyOyD7//Zpf5MzTerzKGtoXN",
      "include_colab_link": true
    },
    "kernelspec": {
      "name": "python3",
      "display_name": "Python 3"
    }
  },
  "cells": [
    {
      "cell_type": "markdown",
      "metadata": {
        "id": "view-in-github",
        "colab_type": "text"
      },
      "source": [
        "<a href=\"https://colab.research.google.com/github/Jian970224/ML-000/blob/main/Week09/Chapter_07_assignment.ipynb\" target=\"_parent\"><img src=\"https://colab.research.google.com/assets/colab-badge.svg\" alt=\"Open In Colab\"/></a>"
      ]
    },
    {
      "cell_type": "markdown",
      "metadata": {
        "id": "A_MyRezogI0d"
      },
      "source": [
        "第七章作业题 \\\\\r\n",
        "题目：找到至少 1 个能够提升模型效果的衍生变量（以 lightgbm 为基础模型）。 \\\\\r\n"
      ]
    },
    {
      "cell_type": "code",
      "metadata": {
        "id": "v3TuJwZGfKk1",
        "colab": {
          "base_uri": "https://localhost:8080/"
        },
        "outputId": "62a0c84f-33b7-40d0-a004-0c0b05d187b4"
      },
      "source": [
        "import pandas as pd\r\n",
        "from sklearn.model_selection import train_test_split\r\n",
        "import lightgbm as lgb\r\n",
        "from sklearn.metrics import mean_absolute_error\r\n",
        "from google.colab import drive\r\n",
        "drive.mount('/content/drive')"
      ],
      "execution_count": 1,
      "outputs": [
        {
          "output_type": "stream",
          "text": [
            "Drive already mounted at /content/drive; to attempt to forcibly remount, call drive.mount(\"/content/drive\", force_remount=True).\n"
          ],
          "name": "stdout"
        }
      ]
    },
    {
      "cell_type": "code",
      "metadata": {
        "id": "NPPW4KRPg0ju"
      },
      "source": [
        "train_temp = pd.read_csv('/content/drive/My Drive/Colab Notebooks/Chapter_7_data/train_final.csv')\r\n",
        "test_temp = pd.read_csv('/content/drive/My Drive/Colab Notebooks/Chapter_7_data/test_final.csv')"
      ],
      "execution_count": 2,
      "outputs": []
    },
    {
      "cell_type": "code",
      "metadata": {
        "id": "ZsC9ruxByhec"
      },
      "source": [
        "train_y = train_temp.loan_status\r\n",
        "test_y = test_temp.loan_status\r\n",
        "train_X = train_temp.drop(['loan_status'], axis=1)\r\n",
        "test_X = test_temp.drop(['loan_status'], axis=1)"
      ],
      "execution_count": 3,
      "outputs": []
    },
    {
      "cell_type": "code",
      "metadata": {
        "id": "htdTaRHmy4SI"
      },
      "source": [
        "params = {\r\n",
        "    'task': 'train',\r\n",
        "    'boosting_type': 'gbdt',  \r\n",
        "    'objective': 'regression',  \r\n",
        "    'metric': {'l2', 'auc'},  \r\n",
        "    'num_leaves': 31,  \r\n",
        "    'learning_rate': 0.8,  \r\n",
        "    'force_row_wise': 'true',\r\n",
        "    'feature_fraction': 0.9,  \r\n",
        "    'bagging_fraction': 0.8,  \r\n",
        "    'bagging_freq': 5,  \r\n",
        "    'verbose': 1  \r\n",
        "}"
      ],
      "execution_count": 4,
      "outputs": []
    },
    {
      "cell_type": "code",
      "metadata": {
        "id": "NCTrQaRSy6H-"
      },
      "source": [
        "lgb_train = lgb.Dataset(train_X, train_y)\r\n",
        "lgb_eval = lgb.Dataset(test_X, test_y, reference=lgb_train)"
      ],
      "execution_count": 5,
      "outputs": []
    },
    {
      "cell_type": "code",
      "metadata": {
        "colab": {
          "base_uri": "https://localhost:8080/"
        },
        "id": "uWKb1Ts4y_Da",
        "outputId": "047cac76-9a82-4f9d-e511-30cd1750c270"
      },
      "source": [
        "my_model = lgb.train(params, lgb_train, num_boost_round=20, valid_sets=lgb_eval, early_stopping_rounds=5)"
      ],
      "execution_count": 6,
      "outputs": [
        {
          "output_type": "stream",
          "text": [
            "[1]\tvalid_0's l2: 0.0645709\tvalid_0's auc: 0.949088\n",
            "Training until validation scores don't improve for 5 rounds.\n",
            "[2]\tvalid_0's l2: 0.0614381\tvalid_0's auc: 0.953192\n",
            "[3]\tvalid_0's l2: 0.0618625\tvalid_0's auc: 0.953944\n",
            "[4]\tvalid_0's l2: 0.0619868\tvalid_0's auc: 0.9547\n",
            "[5]\tvalid_0's l2: 0.0622789\tvalid_0's auc: 0.954401\n",
            "[6]\tvalid_0's l2: 0.0627592\tvalid_0's auc: 0.953412\n",
            "[7]\tvalid_0's l2: 0.0630831\tvalid_0's auc: 0.952263\n",
            "Early stopping, best iteration is:\n",
            "[2]\tvalid_0's l2: 0.0614381\tvalid_0's auc: 0.953192\n"
          ],
          "name": "stdout"
        }
      ]
    },
    {
      "cell_type": "code",
      "metadata": {
        "id": "KOg8MWdrzBxK"
      },
      "source": [
        "predictions = my_model.predict(test_X, num_iteration=my_model.best_iteration)"
      ],
      "execution_count": 7,
      "outputs": []
    },
    {
      "cell_type": "code",
      "metadata": {
        "colab": {
          "base_uri": "https://localhost:8080/"
        },
        "id": "gTvwAiBXzDhH",
        "outputId": "0604f1e4-effc-458b-f7d6-2d3b90183701"
      },
      "source": [
        "defaultMeanError = mean_absolute_error(predictions, test_y);\r\n",
        "print(\"Mean Absolute Error : \" + str(defaultMeanError))"
      ],
      "execution_count": 8,
      "outputs": [
        {
          "output_type": "stream",
          "text": [
            "Mean Absolute Error : 0.1258978905801256\n"
          ],
          "name": "stdout"
        }
      ]
    },
    {
      "cell_type": "code",
      "metadata": {
        "id": "ltAu_rEmzlRZ"
      },
      "source": [
        "train_X['added'] = train_X['continuous_installment'] * train_X['continuous_installment']\r\n",
        "test_X['added'] = test_X['continuous_installment'] * test_X['continuous_installment']"
      ],
      "execution_count": 9,
      "outputs": []
    },
    {
      "cell_type": "code",
      "metadata": {
        "id": "f8X0-k-czpjJ"
      },
      "source": [
        "lgb_train = lgb.Dataset(train_X, train_y)\r\n",
        "lgb_eval = lgb.Dataset(test_X, test_y, reference=lgb_train)"
      ],
      "execution_count": 10,
      "outputs": []
    },
    {
      "cell_type": "code",
      "metadata": {
        "colab": {
          "base_uri": "https://localhost:8080/"
        },
        "id": "sgLj1xEmzrkw",
        "outputId": "d9887147-8d7e-4162-92a0-aa6487fe4f66"
      },
      "source": [
        "my_model = lgb.train(params, lgb_train, num_boost_round=20, valid_sets=lgb_eval, early_stopping_rounds=5)"
      ],
      "execution_count": 11,
      "outputs": [
        {
          "output_type": "stream",
          "text": [
            "[1]\tvalid_0's l2: 0.0645709\tvalid_0's auc: 0.949088\n",
            "Training until validation scores don't improve for 5 rounds.\n",
            "[2]\tvalid_0's l2: 0.0614351\tvalid_0's auc: 0.953211\n",
            "[3]\tvalid_0's l2: 0.061801\tvalid_0's auc: 0.953668\n",
            "[4]\tvalid_0's l2: 0.0620826\tvalid_0's auc: 0.953745\n",
            "[5]\tvalid_0's l2: 0.0623203\tvalid_0's auc: 0.952404\n",
            "[6]\tvalid_0's l2: 0.0627188\tvalid_0's auc: 0.952355\n",
            "[7]\tvalid_0's l2: 0.0627494\tvalid_0's auc: 0.952017\n",
            "Early stopping, best iteration is:\n",
            "[2]\tvalid_0's l2: 0.0614351\tvalid_0's auc: 0.953211\n"
          ],
          "name": "stdout"
        }
      ]
    },
    {
      "cell_type": "code",
      "metadata": {
        "id": "vAvYWNDDzt76"
      },
      "source": [
        "predictions = my_model.predict(test_X, num_iteration=my_model.best_iteration)"
      ],
      "execution_count": 12,
      "outputs": []
    },
    {
      "cell_type": "code",
      "metadata": {
        "colab": {
          "base_uri": "https://localhost:8080/"
        },
        "id": "OMy4aYIQzvgL",
        "outputId": "fd6969b6-2f73-4191-bcb9-d10412e55549"
      },
      "source": [
        "newMeanError = mean_absolute_error(predictions, test_y)\r\n",
        "print(\"Mean Absolute Error : \" + str(newMeanError))"
      ],
      "execution_count": 13,
      "outputs": [
        {
          "output_type": "stream",
          "text": [
            "Mean Absolute Error : 0.12583847872803272\n"
          ],
          "name": "stdout"
        }
      ]
    },
    {
      "cell_type": "code",
      "metadata": {
        "colab": {
          "base_uri": "https://localhost:8080/"
        },
        "id": "pyVLD6q9zxoi",
        "outputId": "06f04051-b9ee-4319-a82d-8b842802d31f"
      },
      "source": [
        "print(\"Improve : \" + str(defaultMeanError - newMeanError))"
      ],
      "execution_count": 14,
      "outputs": [
        {
          "output_type": "stream",
          "text": [
            "Improve : 5.941185209287769e-05\n"
          ],
          "name": "stdout"
        }
      ]
    }
  ]
}